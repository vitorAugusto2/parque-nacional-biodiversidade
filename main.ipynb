{
 "cells": [
  {
   "cell_type": "markdown",
   "metadata": {},
   "source": [
    "# Parque Nacional Biodiversidade\n",
    "\n",
    "O objetivo deste projeto é analisar dados de biodiversidade do Serviço de Parques Nacionais, particularmente em torno de várias espécies observadas em diferentes locais de parques nacionais.\n",
    "\n",
    "Perguntas que este projeto procurou responder:\n",
    "\n",
    "- Qual é a distribuição do estado de conservação das espécies?\n",
    "- Certos tipos de espécies têm maior probabilidade de estarem ameaçados?\n",
    "- As diferenças entre as espécies e o seu estado de conservação são significativas?\n",
    "- Qual animal é mais prevalente e qual a sua distribuição nos parques?"
   ]
  },
  {
   "cell_type": "markdown",
   "metadata": {},
   "source": [
    "### Importação de bibliotecas"
   ]
  },
  {
   "cell_type": "code",
   "execution_count": 1,
   "metadata": {},
   "outputs": [],
   "source": [
    "import pandas as pd\n",
    "import matplotlib.pyplot as plt\n",
    "import seaborn as sns\n",
    "from scipy.stats import kruskal"
   ]
  },
  {
   "cell_type": "markdown",
   "metadata": {},
   "source": [
    "### Exploração de dados\n",
    "\n",
    "Dois conjuntos de dados: `Observations.csv` e `Species_info.csv`"
   ]
  },
  {
   "cell_type": "markdown",
   "metadata": {},
   "source": [
    "#### **Observations**\n",
    "\n",
    "O `Observations.csv` contém informações de avistamentos registrados de diferentes espécies nos parques nacionais nos últimos 7 dias. As colunas incluídas são:\n",
    "\n",
    "- **scientific_name** - O nome científico de cada espécie \n",
    "- **park_name** - O nome do parque nacional\n",
    "- **oberservations** - O número de observações nos últimos 7 dias"
   ]
  },
  {
   "cell_type": "code",
   "execution_count": 2,
   "metadata": {},
   "outputs": [
    {
     "data": {
      "text/html": [
       "<div>\n",
       "<style scoped>\n",
       "    .dataframe tbody tr th:only-of-type {\n",
       "        vertical-align: middle;\n",
       "    }\n",
       "\n",
       "    .dataframe tbody tr th {\n",
       "        vertical-align: top;\n",
       "    }\n",
       "\n",
       "    .dataframe thead th {\n",
       "        text-align: right;\n",
       "    }\n",
       "</style>\n",
       "<table border=\"1\" class=\"dataframe\">\n",
       "  <thead>\n",
       "    <tr style=\"text-align: right;\">\n",
       "      <th></th>\n",
       "      <th>scientific_name</th>\n",
       "      <th>park_name</th>\n",
       "      <th>observations</th>\n",
       "    </tr>\n",
       "  </thead>\n",
       "  <tbody>\n",
       "    <tr>\n",
       "      <th>0</th>\n",
       "      <td>Vicia benghalensis</td>\n",
       "      <td>Great Smoky Mountains National Park</td>\n",
       "      <td>68</td>\n",
       "    </tr>\n",
       "    <tr>\n",
       "      <th>1</th>\n",
       "      <td>Neovison vison</td>\n",
       "      <td>Great Smoky Mountains National Park</td>\n",
       "      <td>77</td>\n",
       "    </tr>\n",
       "    <tr>\n",
       "      <th>2</th>\n",
       "      <td>Prunus subcordata</td>\n",
       "      <td>Yosemite National Park</td>\n",
       "      <td>138</td>\n",
       "    </tr>\n",
       "    <tr>\n",
       "      <th>3</th>\n",
       "      <td>Abutilon theophrasti</td>\n",
       "      <td>Bryce National Park</td>\n",
       "      <td>84</td>\n",
       "    </tr>\n",
       "    <tr>\n",
       "      <th>4</th>\n",
       "      <td>Githopsis specularioides</td>\n",
       "      <td>Great Smoky Mountains National Park</td>\n",
       "      <td>85</td>\n",
       "    </tr>\n",
       "    <tr>\n",
       "      <th>5</th>\n",
       "      <td>Elymus virginicus var. virginicus</td>\n",
       "      <td>Yosemite National Park</td>\n",
       "      <td>112</td>\n",
       "    </tr>\n",
       "    <tr>\n",
       "      <th>6</th>\n",
       "      <td>Spizella pusilla</td>\n",
       "      <td>Yellowstone National Park</td>\n",
       "      <td>228</td>\n",
       "    </tr>\n",
       "    <tr>\n",
       "      <th>7</th>\n",
       "      <td>Elymus multisetus</td>\n",
       "      <td>Great Smoky Mountains National Park</td>\n",
       "      <td>39</td>\n",
       "    </tr>\n",
       "    <tr>\n",
       "      <th>8</th>\n",
       "      <td>Lysimachia quadrifolia</td>\n",
       "      <td>Yosemite National Park</td>\n",
       "      <td>168</td>\n",
       "    </tr>\n",
       "    <tr>\n",
       "      <th>9</th>\n",
       "      <td>Diphyscium cumberlandianum</td>\n",
       "      <td>Yellowstone National Park</td>\n",
       "      <td>250</td>\n",
       "    </tr>\n",
       "  </tbody>\n",
       "</table>\n",
       "</div>"
      ],
      "text/plain": [
       "                     scientific_name                            park_name  \\\n",
       "0                 Vicia benghalensis  Great Smoky Mountains National Park   \n",
       "1                     Neovison vison  Great Smoky Mountains National Park   \n",
       "2                  Prunus subcordata               Yosemite National Park   \n",
       "3               Abutilon theophrasti                  Bryce National Park   \n",
       "4           Githopsis specularioides  Great Smoky Mountains National Park   \n",
       "5  Elymus virginicus var. virginicus               Yosemite National Park   \n",
       "6                   Spizella pusilla            Yellowstone National Park   \n",
       "7                  Elymus multisetus  Great Smoky Mountains National Park   \n",
       "8             Lysimachia quadrifolia               Yosemite National Park   \n",
       "9         Diphyscium cumberlandianum            Yellowstone National Park   \n",
       "\n",
       "   observations  \n",
       "0            68  \n",
       "1            77  \n",
       "2           138  \n",
       "3            84  \n",
       "4            85  \n",
       "5           112  \n",
       "6           228  \n",
       "7            39  \n",
       "8           168  \n",
       "9           250  "
      ]
     },
     "execution_count": 2,
     "metadata": {},
     "output_type": "execute_result"
    }
   ],
   "source": [
    "# Carregando dataset \n",
    "df_oberservations = pd.read_csv(\"./observations.csv\")\n",
    "df_oberservations.head(10)"
   ]
  },
  {
   "cell_type": "markdown",
   "metadata": {},
   "source": [
    "Obersevando as células abaixo, o conjunto possui 23.296 linhas e 3 colunas, com 15 valores duplicados e 0 valores ausentes.\n",
    "Para tratar os dados, utilizamos a função `drop_duplicates` para remover as linhas duplicadas."
   ]
  },
  {
   "cell_type": "code",
   "execution_count": 3,
   "metadata": {},
   "outputs": [
    {
     "name": "stdout",
     "output_type": "stream",
     "text": [
      "<class 'pandas.core.frame.DataFrame'>\n",
      "RangeIndex: 23296 entries, 0 to 23295\n",
      "Data columns (total 3 columns):\n",
      " #   Column           Non-Null Count  Dtype \n",
      "---  ------           --------------  ----- \n",
      " 0   scientific_name  23296 non-null  object\n",
      " 1   park_name        23296 non-null  object\n",
      " 2   observations     23296 non-null  int64 \n",
      "dtypes: int64(1), object(2)\n",
      "memory usage: 546.1+ KB\n"
     ]
    }
   ],
   "source": [
    "# Resumo de informações\n",
    "df_oberservations.info()"
   ]
  },
  {
   "cell_type": "code",
   "execution_count": 5,
   "metadata": {},
   "outputs": [
    {
     "name": "stdout",
     "output_type": "stream",
     "text": [
      "Valores duplicados = 15\n",
      "\n",
      "Valores ausentes: \n",
      "scientific_name    0\n",
      "park_name          0\n",
      "observations       0\n",
      "dtype: int64\n",
      "\n"
     ]
    }
   ],
   "source": [
    "# Verificando valores duplicados e ausentes\n",
    "print(f\"\"\"Valores duplicados = {df_oberservations.duplicated().sum()}\\n\n",
    "Valores ausentes: \\n{df_oberservations.isnull().sum()}\n",
    "\"\"\")"
   ]
  },
  {
   "cell_type": "code",
   "execution_count": 6,
   "metadata": {},
   "outputs": [],
   "source": [
    "# Removendo os valores duplicados\n",
    "df_oberservations = df_oberservations.drop_duplicates()"
   ]
  },
  {
   "cell_type": "code",
   "execution_count": 7,
   "metadata": {},
   "outputs": [
    {
     "data": {
      "text/html": [
       "<div>\n",
       "<style scoped>\n",
       "    .dataframe tbody tr th:only-of-type {\n",
       "        vertical-align: middle;\n",
       "    }\n",
       "\n",
       "    .dataframe tbody tr th {\n",
       "        vertical-align: top;\n",
       "    }\n",
       "\n",
       "    .dataframe thead th {\n",
       "        text-align: right;\n",
       "    }\n",
       "</style>\n",
       "<table border=\"1\" class=\"dataframe\">\n",
       "  <thead>\n",
       "    <tr style=\"text-align: right;\">\n",
       "      <th></th>\n",
       "      <th>observations</th>\n",
       "    </tr>\n",
       "  </thead>\n",
       "  <tbody>\n",
       "    <tr>\n",
       "      <th>count</th>\n",
       "      <td>23281.000000</td>\n",
       "    </tr>\n",
       "    <tr>\n",
       "      <th>mean</th>\n",
       "      <td>142.280357</td>\n",
       "    </tr>\n",
       "    <tr>\n",
       "      <th>std</th>\n",
       "      <td>69.885439</td>\n",
       "    </tr>\n",
       "    <tr>\n",
       "      <th>min</th>\n",
       "      <td>9.000000</td>\n",
       "    </tr>\n",
       "    <tr>\n",
       "      <th>25%</th>\n",
       "      <td>86.000000</td>\n",
       "    </tr>\n",
       "    <tr>\n",
       "      <th>50%</th>\n",
       "      <td>124.000000</td>\n",
       "    </tr>\n",
       "    <tr>\n",
       "      <th>75%</th>\n",
       "      <td>195.000000</td>\n",
       "    </tr>\n",
       "    <tr>\n",
       "      <th>max</th>\n",
       "      <td>321.000000</td>\n",
       "    </tr>\n",
       "  </tbody>\n",
       "</table>\n",
       "</div>"
      ],
      "text/plain": [
       "       observations\n",
       "count  23281.000000\n",
       "mean     142.280357\n",
       "std       69.885439\n",
       "min        9.000000\n",
       "25%       86.000000\n",
       "50%      124.000000\n",
       "75%      195.000000\n",
       "max      321.000000"
      ]
     },
     "execution_count": 7,
     "metadata": {},
     "output_type": "execute_result"
    }
   ],
   "source": [
    "# Estatísticas Descritivas\n",
    "df_oberservations.describe()"
   ]
  },
  {
   "cell_type": "code",
   "execution_count": 19,
   "metadata": {},
   "outputs": [
    {
     "name": "stdout",
     "output_type": "stream",
     "text": [
      "Frequência:\n",
      "    scientific_name\n",
      "Castor canadensis        12\n",
      "Canis lupus              12\n",
      "Hypochaeris radicata     12\n",
      "Procyon lotor            12\n",
      "Holcus lanatus           12\n",
      "Myotis lucifugus         12\n",
      "Columba livia            12\n",
      "Puma concolor            12\n",
      "Streptopelia decaocto    11\n",
      "Vinca major               8\n",
      "Name: count, dtype: int64\n",
      "\n",
      "    park_name\n",
      "Bryce National Park                    5823\n",
      "Yosemite National Park                 5821\n",
      "Yellowstone National Park              5819\n",
      "Great Smoky Mountains National Park    5818\n",
      "Name: count, dtype: int64\n",
      "\n"
     ]
    }
   ],
   "source": [
    "# Ocorrências dos valores nos parques\n",
    "print(f\"\"\"Frequência:\n",
    "    {df_oberservations[\"scientific_name\"].value_counts()[:10]}\\n\n",
    "    {df_oberservations[\"park_name\"].value_counts()}\n",
    "\"\"\")"
   ]
  },
  {
   "cell_type": "code",
   "execution_count": 9,
   "metadata": {},
   "outputs": [
    {
     "name": "stdout",
     "output_type": "stream",
     "text": [
      "Valores das variáveis categóricas:\n",
      "scientific_name = ['Vicia benghalensis' 'Neovison vison' 'Prunus subcordata' ...\n",
      " 'Ranunculus hebecarpus' 'Gulo gulo' 'Dichanthelium depauperatum']\n",
      "\n",
      "park_name = ['Great Smoky Mountains National Park' 'Yosemite National Park'\n",
      " 'Bryce National Park' 'Yellowstone National Park']\n",
      "\n"
     ]
    }
   ],
   "source": [
    "# Valores das variáveis categóricas\n",
    "print(f\"\"\"Valores das variáveis categóricas:\n",
    "scientific_name = {df_oberservations[\"scientific_name\"].unique()}\\n\n",
    "park_name = {df_oberservations[\"park_name\"].unique()}\n",
    "\"\"\")"
   ]
  },
  {
   "cell_type": "markdown",
   "metadata": {},
   "source": [
    "#### **Species_info**\n",
    "\n",
    "O `species_info.csv` contém informações sobre as diferentes espécies dos Parques Nacionais. As colunas no conjunto de dados incluem:\n",
    "- **category** - A categoria de taxonomia para cada espécie\n",
    "- **scientific_name** - O nome científico de cada espécie\n",
    "- **common_names** - Os nomes comuns de cada espécie\n",
    "- **conservation_status** - O estado de conservação da espécie\n"
   ]
  },
  {
   "cell_type": "code",
   "execution_count": 11,
   "metadata": {},
   "outputs": [
    {
     "data": {
      "text/html": [
       "<div>\n",
       "<style scoped>\n",
       "    .dataframe tbody tr th:only-of-type {\n",
       "        vertical-align: middle;\n",
       "    }\n",
       "\n",
       "    .dataframe tbody tr th {\n",
       "        vertical-align: top;\n",
       "    }\n",
       "\n",
       "    .dataframe thead th {\n",
       "        text-align: right;\n",
       "    }\n",
       "</style>\n",
       "<table border=\"1\" class=\"dataframe\">\n",
       "  <thead>\n",
       "    <tr style=\"text-align: right;\">\n",
       "      <th></th>\n",
       "      <th>category</th>\n",
       "      <th>scientific_name</th>\n",
       "      <th>common_names</th>\n",
       "      <th>conservation_status</th>\n",
       "    </tr>\n",
       "  </thead>\n",
       "  <tbody>\n",
       "    <tr>\n",
       "      <th>0</th>\n",
       "      <td>Mammal</td>\n",
       "      <td>Clethrionomys gapperi gapperi</td>\n",
       "      <td>Gapper's Red-Backed Vole</td>\n",
       "      <td>NaN</td>\n",
       "    </tr>\n",
       "    <tr>\n",
       "      <th>1</th>\n",
       "      <td>Mammal</td>\n",
       "      <td>Bos bison</td>\n",
       "      <td>American Bison, Bison</td>\n",
       "      <td>NaN</td>\n",
       "    </tr>\n",
       "    <tr>\n",
       "      <th>2</th>\n",
       "      <td>Mammal</td>\n",
       "      <td>Bos taurus</td>\n",
       "      <td>Aurochs, Aurochs, Domestic Cattle (Feral), Dom...</td>\n",
       "      <td>NaN</td>\n",
       "    </tr>\n",
       "    <tr>\n",
       "      <th>3</th>\n",
       "      <td>Mammal</td>\n",
       "      <td>Ovis aries</td>\n",
       "      <td>Domestic Sheep, Mouflon, Red Sheep, Sheep (Feral)</td>\n",
       "      <td>NaN</td>\n",
       "    </tr>\n",
       "    <tr>\n",
       "      <th>4</th>\n",
       "      <td>Mammal</td>\n",
       "      <td>Cervus elaphus</td>\n",
       "      <td>Wapiti Or Elk</td>\n",
       "      <td>NaN</td>\n",
       "    </tr>\n",
       "    <tr>\n",
       "      <th>5</th>\n",
       "      <td>Mammal</td>\n",
       "      <td>Odocoileus virginianus</td>\n",
       "      <td>White-Tailed Deer</td>\n",
       "      <td>NaN</td>\n",
       "    </tr>\n",
       "    <tr>\n",
       "      <th>6</th>\n",
       "      <td>Mammal</td>\n",
       "      <td>Sus scrofa</td>\n",
       "      <td>Feral Hog, Wild Pig</td>\n",
       "      <td>NaN</td>\n",
       "    </tr>\n",
       "    <tr>\n",
       "      <th>7</th>\n",
       "      <td>Mammal</td>\n",
       "      <td>Canis latrans</td>\n",
       "      <td>Coyote</td>\n",
       "      <td>Species of Concern</td>\n",
       "    </tr>\n",
       "    <tr>\n",
       "      <th>8</th>\n",
       "      <td>Mammal</td>\n",
       "      <td>Canis lupus</td>\n",
       "      <td>Gray Wolf</td>\n",
       "      <td>Endangered</td>\n",
       "    </tr>\n",
       "    <tr>\n",
       "      <th>9</th>\n",
       "      <td>Mammal</td>\n",
       "      <td>Canis rufus</td>\n",
       "      <td>Red Wolf</td>\n",
       "      <td>Endangered</td>\n",
       "    </tr>\n",
       "  </tbody>\n",
       "</table>\n",
       "</div>"
      ],
      "text/plain": [
       "  category                scientific_name  \\\n",
       "0   Mammal  Clethrionomys gapperi gapperi   \n",
       "1   Mammal                      Bos bison   \n",
       "2   Mammal                     Bos taurus   \n",
       "3   Mammal                     Ovis aries   \n",
       "4   Mammal                 Cervus elaphus   \n",
       "5   Mammal         Odocoileus virginianus   \n",
       "6   Mammal                     Sus scrofa   \n",
       "7   Mammal                  Canis latrans   \n",
       "8   Mammal                    Canis lupus   \n",
       "9   Mammal                    Canis rufus   \n",
       "\n",
       "                                        common_names conservation_status  \n",
       "0                           Gapper's Red-Backed Vole                 NaN  \n",
       "1                              American Bison, Bison                 NaN  \n",
       "2  Aurochs, Aurochs, Domestic Cattle (Feral), Dom...                 NaN  \n",
       "3  Domestic Sheep, Mouflon, Red Sheep, Sheep (Feral)                 NaN  \n",
       "4                                      Wapiti Or Elk                 NaN  \n",
       "5                                  White-Tailed Deer                 NaN  \n",
       "6                                Feral Hog, Wild Pig                 NaN  \n",
       "7                                             Coyote  Species of Concern  \n",
       "8                                          Gray Wolf          Endangered  \n",
       "9                                           Red Wolf          Endangered  "
      ]
     },
     "execution_count": 11,
     "metadata": {},
     "output_type": "execute_result"
    }
   ],
   "source": [
    "# Carregando dataset\n",
    "df_species = pd.read_csv(\"./species_info.csv\")\n",
    "df_species.head(10)"
   ]
  },
  {
   "cell_type": "code",
   "execution_count": 12,
   "metadata": {},
   "outputs": [
    {
     "name": "stdout",
     "output_type": "stream",
     "text": [
      "<class 'pandas.core.frame.DataFrame'>\n",
      "RangeIndex: 5824 entries, 0 to 5823\n",
      "Data columns (total 4 columns):\n",
      " #   Column               Non-Null Count  Dtype \n",
      "---  ------               --------------  ----- \n",
      " 0   category             5824 non-null   object\n",
      " 1   scientific_name      5824 non-null   object\n",
      " 2   common_names         5824 non-null   object\n",
      " 3   conservation_status  191 non-null    object\n",
      "dtypes: object(4)\n",
      "memory usage: 182.1+ KB\n"
     ]
    }
   ],
   "source": [
    "# Resumo de informações\n",
    "df_species.info()"
   ]
  },
  {
   "cell_type": "code",
   "execution_count": 13,
   "metadata": {},
   "outputs": [
    {
     "data": {
      "text/html": [
       "<div>\n",
       "<style scoped>\n",
       "    .dataframe tbody tr th:only-of-type {\n",
       "        vertical-align: middle;\n",
       "    }\n",
       "\n",
       "    .dataframe tbody tr th {\n",
       "        vertical-align: top;\n",
       "    }\n",
       "\n",
       "    .dataframe thead th {\n",
       "        text-align: right;\n",
       "    }\n",
       "</style>\n",
       "<table border=\"1\" class=\"dataframe\">\n",
       "  <thead>\n",
       "    <tr style=\"text-align: right;\">\n",
       "      <th></th>\n",
       "      <th>category</th>\n",
       "      <th>scientific_name</th>\n",
       "      <th>common_names</th>\n",
       "      <th>conservation_status</th>\n",
       "    </tr>\n",
       "  </thead>\n",
       "  <tbody>\n",
       "    <tr>\n",
       "      <th>count</th>\n",
       "      <td>5824</td>\n",
       "      <td>5824</td>\n",
       "      <td>5824</td>\n",
       "      <td>191</td>\n",
       "    </tr>\n",
       "    <tr>\n",
       "      <th>unique</th>\n",
       "      <td>7</td>\n",
       "      <td>5541</td>\n",
       "      <td>5504</td>\n",
       "      <td>4</td>\n",
       "    </tr>\n",
       "    <tr>\n",
       "      <th>top</th>\n",
       "      <td>Vascular Plant</td>\n",
       "      <td>Castor canadensis</td>\n",
       "      <td>Brachythecium Moss</td>\n",
       "      <td>Species of Concern</td>\n",
       "    </tr>\n",
       "    <tr>\n",
       "      <th>freq</th>\n",
       "      <td>4470</td>\n",
       "      <td>3</td>\n",
       "      <td>7</td>\n",
       "      <td>161</td>\n",
       "    </tr>\n",
       "  </tbody>\n",
       "</table>\n",
       "</div>"
      ],
      "text/plain": [
       "              category    scientific_name        common_names  \\\n",
       "count             5824               5824                5824   \n",
       "unique               7               5541                5504   \n",
       "top     Vascular Plant  Castor canadensis  Brachythecium Moss   \n",
       "freq              4470                  3                   7   \n",
       "\n",
       "       conservation_status  \n",
       "count                  191  \n",
       "unique                   4  \n",
       "top     Species of Concern  \n",
       "freq                   161  "
      ]
     },
     "execution_count": 13,
     "metadata": {},
     "output_type": "execute_result"
    }
   ],
   "source": [
    "# Estatísticas Descritivas\n",
    "df_species.describe()"
   ]
  },
  {
   "cell_type": "markdown",
   "metadata": {},
   "source": [
    "Existem 7 categorias de taxonomia: 'Mamífero',  'Pássaro', 'Réptil', 'Anfíbio', 'Peixe', 'Planta Vascular' e 'Planta Avascular'"
   ]
  },
  {
   "cell_type": "code",
   "execution_count": 14,
   "metadata": {},
   "outputs": [
    {
     "name": "stdout",
     "output_type": "stream",
     "text": [
      "Taxonomia: \n",
      " ['Mammal' 'Bird' 'Reptile' 'Amphibian' 'Fish' 'Vascular Plant'\n",
      " 'Nonvascular Plant']\n"
     ]
    }
   ],
   "source": [
    "print(f\"Taxonomia: \\n {df_species[\"category\"].unique()}\")"
   ]
  },
  {
   "cell_type": "markdown",
   "metadata": {},
   "source": [
    "Observando as células abaixo, o conjunto de dados apresenta 0 valores duplicados e 5.633 valores ausentes da coluna `conservation_status`. Para tratar os dados ausentes, utilizaremos a função `fillna()` para substituir os valores ausentes por um valor específico."
   ]
  },
  {
   "cell_type": "code",
   "execution_count": 16,
   "metadata": {},
   "outputs": [
    {
     "name": "stdout",
     "output_type": "stream",
     "text": [
      "Valores duplicados = 0\n",
      "\n",
      "Valores ausentes =\n",
      "category                  0\n",
      "scientific_name           0\n",
      "common_names              0\n",
      "conservation_status    5633\n",
      "dtype: int64\n",
      "\n",
      "\n"
     ]
    }
   ],
   "source": [
    "print(f\"\"\"Valores duplicados = {df_species.duplicated().sum()}\\n\n",
    "Valores ausentes =\\n{df_species.isnull().sum()}\\n\n",
    "\"\"\")"
   ]
  },
  {
   "cell_type": "markdown",
   "metadata": {},
   "source": [
    "Contagem do número de observações na divisão das categorias em `conservation_status`. Existem 5.633 valores `nan`, o que significa que são espécies sem preocupações. Por outro lado, existem 161 espécies preocupantes, 16 ameaçadas de extinção, 10 ameaçadas e 4 em recuperação. "
   ]
  },
  {
   "cell_type": "code",
   "execution_count": 17,
   "metadata": {},
   "outputs": [
    {
     "name": "stdout",
     "output_type": "stream",
     "text": [
      "Valores da coluna consevation_status: [nan 'Species of Concern' 'Endangered' 'Threatened' 'In Recovery']\n",
      "\n",
      "conservation_status\n",
      "Endangered             16\n",
      "In Recovery             4\n",
      "Species of Concern    161\n",
      "Threatened             10\n",
      "dtype: int64\n",
      "\n"
     ]
    }
   ],
   "source": [
    "print(f\"\"\"Valores da coluna consevation_status: {df_species[\"conservation_status\"].unique()}\\n\n",
    "{df_species.groupby(\"conservation_status\").size()}\n",
    "\"\"\")"
   ]
  },
  {
   "cell_type": "markdown",
   "metadata": {},
   "source": [
    "A coluna `conservation_status` possui vários valores possíveis:\n",
    "- `Species of Concern`: em declínio ou parecem necessitar de conservação\n",
    "- `Threatened`: vulnerável a perigo num futuro próximo\n",
    "- `Endangered `: seriamente em risco de extinção\n",
    "- `In Recovery`: anteriormente `Endangered`, mas atualmente não está em perigo de extinção em toda ou em uma parte significativa de sua área de distribuição\n",
    "\n",
    "Na exploração, muitos valores `nan` foram detectados. Esses valores precisarão ser convertidos para `No Intervention`."
   ]
  },
  {
   "cell_type": "code",
   "execution_count": 18,
   "metadata": {},
   "outputs": [
    {
     "name": "stdout",
     "output_type": "stream",
     "text": [
      "conservation_status\n",
      "Endangered              16\n",
      "In Recovery              4\n",
      "No Intervention       5633\n",
      "Species of Concern     161\n",
      "Threatened              10\n",
      "dtype: int64\n"
     ]
    }
   ],
   "source": [
    "df_species.fillna(\"No Intervention\", inplace=True)\n",
    "print(df_species.groupby(\"conservation_status\").size())"
   ]
  },
  {
   "cell_type": "markdown",
   "metadata": {},
   "source": [
    "#### **Merge**\n",
    "\n",
    "Unir os dois conjuntos de dados para analisar os dados mais completos usando merge com base na coluna `scientific_name`,\n",
    "mantendo todas as linhas do `observations.csv` e adicionando informações do `species_info.csv` onde as chaves correspondem."
   ]
  },
  {
   "cell_type": "code",
   "execution_count": 20,
   "metadata": {},
   "outputs": [
    {
     "data": {
      "text/html": [
       "<div>\n",
       "<style scoped>\n",
       "    .dataframe tbody tr th:only-of-type {\n",
       "        vertical-align: middle;\n",
       "    }\n",
       "\n",
       "    .dataframe tbody tr th {\n",
       "        vertical-align: top;\n",
       "    }\n",
       "\n",
       "    .dataframe thead th {\n",
       "        text-align: right;\n",
       "    }\n",
       "</style>\n",
       "<table border=\"1\" class=\"dataframe\">\n",
       "  <thead>\n",
       "    <tr style=\"text-align: right;\">\n",
       "      <th></th>\n",
       "      <th>scientific_name</th>\n",
       "      <th>park_name</th>\n",
       "      <th>observations</th>\n",
       "      <th>category</th>\n",
       "      <th>common_names</th>\n",
       "      <th>conservation_status</th>\n",
       "    </tr>\n",
       "  </thead>\n",
       "  <tbody>\n",
       "    <tr>\n",
       "      <th>26</th>\n",
       "      <td>Zizia trifoliata</td>\n",
       "      <td>Yosemite National Park</td>\n",
       "      <td>135</td>\n",
       "      <td>Vascular Plant</td>\n",
       "      <td>Meadow Alexanders, Three-Leaved Golden Alexanders</td>\n",
       "      <td>Species of Concern</td>\n",
       "    </tr>\n",
       "    <tr>\n",
       "      <th>41</th>\n",
       "      <td>Camissonia sierrae ssp. alticola</td>\n",
       "      <td>Bryce National Park</td>\n",
       "      <td>84</td>\n",
       "      <td>Vascular Plant</td>\n",
       "      <td>Mono Hot Springs Evening Primrose, Mono Hot Sp...</td>\n",
       "      <td>Species of Concern</td>\n",
       "    </tr>\n",
       "    <tr>\n",
       "      <th>79</th>\n",
       "      <td>Tofieldia glabra</td>\n",
       "      <td>Great Smoky Mountains National Park</td>\n",
       "      <td>75</td>\n",
       "      <td>Vascular Plant</td>\n",
       "      <td>Smooth Bog-Asphodel, Smooth Tofieldia</td>\n",
       "      <td>Species of Concern</td>\n",
       "    </tr>\n",
       "    <tr>\n",
       "      <th>105</th>\n",
       "      <td>Accipiter cooperii</td>\n",
       "      <td>Bryce National Park</td>\n",
       "      <td>95</td>\n",
       "      <td>Bird</td>\n",
       "      <td>Cooper's Hawk</td>\n",
       "      <td>Species of Concern</td>\n",
       "    </tr>\n",
       "    <tr>\n",
       "      <th>130</th>\n",
       "      <td>Dichanthelium acuminatum var. acuminatum</td>\n",
       "      <td>Yosemite National Park</td>\n",
       "      <td>123</td>\n",
       "      <td>Vascular Plant</td>\n",
       "      <td>Tapered Rosette Grass</td>\n",
       "      <td>Species of Concern</td>\n",
       "    </tr>\n",
       "    <tr>\n",
       "      <th>183</th>\n",
       "      <td>Oncorhynchus mykiss</td>\n",
       "      <td>Yosemite National Park</td>\n",
       "      <td>118</td>\n",
       "      <td>Fish</td>\n",
       "      <td>Rainbow Trout</td>\n",
       "      <td>Threatened</td>\n",
       "    </tr>\n",
       "    <tr>\n",
       "      <th>201</th>\n",
       "      <td>Rugelia nudicaulis</td>\n",
       "      <td>Yosemite National Park</td>\n",
       "      <td>120</td>\n",
       "      <td>Vascular Plant</td>\n",
       "      <td>Rugel's Ragwort</td>\n",
       "      <td>Species of Concern</td>\n",
       "    </tr>\n",
       "    <tr>\n",
       "      <th>222</th>\n",
       "      <td>Pandion haliaetus</td>\n",
       "      <td>Yosemite National Park</td>\n",
       "      <td>134</td>\n",
       "      <td>Bird</td>\n",
       "      <td>Osprey</td>\n",
       "      <td>Species of Concern</td>\n",
       "    </tr>\n",
       "    <tr>\n",
       "      <th>223</th>\n",
       "      <td>Pandion haliaetus</td>\n",
       "      <td>Yosemite National Park</td>\n",
       "      <td>134</td>\n",
       "      <td>Bird</td>\n",
       "      <td>Osprey, Western Osprey</td>\n",
       "      <td>Species of Concern</td>\n",
       "    </tr>\n",
       "    <tr>\n",
       "      <th>226</th>\n",
       "      <td>Iris missouriensis</td>\n",
       "      <td>Yosemite National Park</td>\n",
       "      <td>127</td>\n",
       "      <td>Vascular Plant</td>\n",
       "      <td>Rocky Mountain Iris, Western Blue Flag, Wild I...</td>\n",
       "      <td>Species of Concern</td>\n",
       "    </tr>\n",
       "  </tbody>\n",
       "</table>\n",
       "</div>"
      ],
      "text/plain": [
       "                              scientific_name  \\\n",
       "26                           Zizia trifoliata   \n",
       "41           Camissonia sierrae ssp. alticola   \n",
       "79                           Tofieldia glabra   \n",
       "105                        Accipiter cooperii   \n",
       "130  Dichanthelium acuminatum var. acuminatum   \n",
       "183                       Oncorhynchus mykiss   \n",
       "201                        Rugelia nudicaulis   \n",
       "222                         Pandion haliaetus   \n",
       "223                         Pandion haliaetus   \n",
       "226                        Iris missouriensis   \n",
       "\n",
       "                               park_name  observations        category  \\\n",
       "26                Yosemite National Park           135  Vascular Plant   \n",
       "41                   Bryce National Park            84  Vascular Plant   \n",
       "79   Great Smoky Mountains National Park            75  Vascular Plant   \n",
       "105                  Bryce National Park            95            Bird   \n",
       "130               Yosemite National Park           123  Vascular Plant   \n",
       "183               Yosemite National Park           118            Fish   \n",
       "201               Yosemite National Park           120  Vascular Plant   \n",
       "222               Yosemite National Park           134            Bird   \n",
       "223               Yosemite National Park           134            Bird   \n",
       "226               Yosemite National Park           127  Vascular Plant   \n",
       "\n",
       "                                          common_names conservation_status  \n",
       "26   Meadow Alexanders, Three-Leaved Golden Alexanders  Species of Concern  \n",
       "41   Mono Hot Springs Evening Primrose, Mono Hot Sp...  Species of Concern  \n",
       "79               Smooth Bog-Asphodel, Smooth Tofieldia  Species of Concern  \n",
       "105                                      Cooper's Hawk  Species of Concern  \n",
       "130                              Tapered Rosette Grass  Species of Concern  \n",
       "183                                      Rainbow Trout          Threatened  \n",
       "201                                    Rugel's Ragwort  Species of Concern  \n",
       "222                                             Osprey  Species of Concern  \n",
       "223                             Osprey, Western Osprey  Species of Concern  \n",
       "226  Rocky Mountain Iris, Western Blue Flag, Wild I...  Species of Concern  "
      ]
     },
     "execution_count": 20,
     "metadata": {},
     "output_type": "execute_result"
    }
   ],
   "source": [
    "df_merge = pd.merge(df_oberservations, df_species, on= \"scientific_name\", how=\"left\")\n",
    "df_filtrado = df_merge[df_merge[\"conservation_status\"] != 'No Intervention']\n",
    "df_filtrado.head(10)"
   ]
  },
  {
   "cell_type": "code",
   "execution_count": 21,
   "metadata": {},
   "outputs": [
    {
     "name": "stdout",
     "output_type": "stream",
     "text": [
      "<class 'pandas.core.frame.DataFrame'>\n",
      "Index: 880 entries, 26 to 25549\n",
      "Data columns (total 6 columns):\n",
      " #   Column               Non-Null Count  Dtype \n",
      "---  ------               --------------  ----- \n",
      " 0   scientific_name      880 non-null    object\n",
      " 1   park_name            880 non-null    object\n",
      " 2   observations         880 non-null    int64 \n",
      " 3   category             880 non-null    object\n",
      " 4   common_names         880 non-null    object\n",
      " 5   conservation_status  880 non-null    object\n",
      "dtypes: int64(1), object(5)\n",
      "memory usage: 48.1+ KB\n"
     ]
    }
   ],
   "source": [
    "# Resumo de informações\n",
    "df_filtrado.info()"
   ]
  },
  {
   "cell_type": "markdown",
   "metadata": {},
   "source": [
    "### Análise e Visualização dos dados"
   ]
  },
  {
   "cell_type": "code",
   "execution_count": 22,
   "metadata": {},
   "outputs": [],
   "source": [
    "%matplotlib inline\n",
    "plt.rcParams[\"figure.dpi\"] = (100)\n",
    "plt.rcParams[\"figure.figsize\"] = (8, 6)"
   ]
  },
  {
   "cell_type": "markdown",
   "metadata": {},
   "source": [
    "#### Distribuição do estado de conservação das espécies\n",
    "\n",
    "Ao analisar os dados, podemos observar as seguintes categorias de status das espécies:\n",
    "\n",
    "- **No Intervention (Sem Intervenção) – 24.721 espécies**: a maior parte das espécies está em uma condição relativamente estáveis e não enfrentam ameaças imediatas, isso pode indicar que as espécies estao sendo monitoradas, mas nao precisam de ações específicas de conservação no momento.\n",
    "  \n",
    "- **Species of Concern (Espécies de Interesse) – 732 espécies**: essas espécies são de preocupação para os conservacionistas, o que pode indicar que estão começando a mostrar sinais de problemas ou que seu status de conservação ainda precisa ser melhor avaliado.\n",
    "\n",
    "- **Endangered (Em perigo) – 80 espécies**: essas espécies enfrentam um risco de extinção e, portanto, precisam de atenção e medidas específicas para sua proteção e recuperação.\n",
    "\n",
    "- **Threatened (Ameaçada) – 44 espécies**: essas espécies enfrentam um risco muito alto e imediato de extinção. Elas estão em uma situação crítica, e medidas urgentes de conservação são necessárias para evitar sua extinção.\n",
    "\n",
    "- **In Recovery (Em Recuperação) – 24 espécies**: é um sinal positivo, indicando que essas espécies estavam em risco anteriormente, mas estão mostrando sinais de recuperação devido a esforços de conservação ou mudanças em seu ambiente."
   ]
  },
  {
   "cell_type": "code",
   "execution_count": 29,
   "metadata": {},
   "outputs": [
    {
     "data": {
      "text/plain": [
       "conservation_status\n",
       "No Intervention       24721\n",
       "Species of Concern      732\n",
       "Endangered               80\n",
       "Threatened               44\n",
       "In Recovery              24\n",
       "Name: count, dtype: int64"
      ]
     },
     "execution_count": 29,
     "metadata": {},
     "output_type": "execute_result"
    }
   ],
   "source": [
    "conservacao_especies = df_merge[\"conservation_status\"].value_counts()\n",
    "conservacao_especies"
   ]
  },
  {
   "cell_type": "code",
   "execution_count": 30,
   "metadata": {},
   "outputs": [
    {
     "data": {
      "image/png": "[encoded data removed]",
      "text/plain": [
       "<Figure size 800x600 with 1 Axes>"
      ]
     },
     "metadata": {},
     "output_type": "display_data"
    }
   ],
   "source": [
    "# Vizualização dos dados\n",
    "ax1 = sns.barplot(x=conservacao_especies.index, \n",
    "                  y=conservacao_especies.values,\n",
    "                  color=\"green\")\n",
    "\n",
    "ax1.set_title(\"Distribution of species conservation status\")\n",
    "ax1.set_xlabel(\"Conservation status\")\n",
    "ax1.set_ylabel(\"Values\")\n",
    "plt.show()"
   ]
  },
  {
   "cell_type": "markdown",
   "metadata": {},
   "source": [
    "#### Tipos de espécies têm maior probabilidade de estarem ameaçados\n",
    "\n",
    "Ao analisar os dados, podemos observar os seguintes tipos de espécies:\n",
    "\n",
    "- **Aves (Birds)**: Com 320 espécies de interesse, 16 em perigo e 12 em recuperação, as aves apresentam preocupação, mas sem espécies classificadas como ameaçadas, sugerindo que a maioria ainda não enfrenta uma crise imediata.\n",
    "\n",
    "- **Mamíferos (Mammals)**: Têm 44 espécies em perigo, 8 ameaçadas e 168 de interesse. Esses números indicam que os mamíferos enfrentam desafios significativos de conservação e requerem atenção para evitar agravamento da situação.\n",
    "\n",
    "- **Peixes (Fish)**: Apresentam 20 espécies ameaçadas e 12 em perigo, mas nenhuma em recuperação, o que aponta para uma situação crítica sem sinais de melhoria.\n",
    "\n",
    "- **Plantas Vasculares (Vascular Plants)**: Com 172 espécies de interesse, 8 ameaçadas e 4 em perigo, a ausência de recuperação indica que os esforços de conservação ainda não reverteram o risco.\n",
    "\n",
    "- **Anfíbios (Amphibians), Plantas Não Vascular (Nonvascular Plants) e Répteis (Reptiles)**: Estes grupos apresentam poucos números em categorias críticas, sugerindo menor nível de ameaça em comparação com outros."
   ]
  },
  {
   "cell_type": "code",
   "execution_count": 27,
   "metadata": {},
   "outputs": [
    {
     "data": {
      "text/html": [
       "<div>\n",
       "<style scoped>\n",
       "    .dataframe tbody tr th:only-of-type {\n",
       "        vertical-align: middle;\n",
       "    }\n",
       "\n",
       "    .dataframe tbody tr th {\n",
       "        vertical-align: top;\n",
       "    }\n",
       "\n",
       "    .dataframe thead th {\n",
       "        text-align: right;\n",
       "    }\n",
       "</style>\n",
       "<table border=\"1\" class=\"dataframe\">\n",
       "  <thead>\n",
       "    <tr style=\"text-align: right;\">\n",
       "      <th>conservation_status</th>\n",
       "      <th>Endangered</th>\n",
       "      <th>In Recovery</th>\n",
       "      <th>Species of Concern</th>\n",
       "      <th>Threatened</th>\n",
       "    </tr>\n",
       "    <tr>\n",
       "      <th>category</th>\n",
       "      <th></th>\n",
       "      <th></th>\n",
       "      <th></th>\n",
       "      <th></th>\n",
       "    </tr>\n",
       "  </thead>\n",
       "  <tbody>\n",
       "    <tr>\n",
       "      <th>Amphibian</th>\n",
       "      <td>4.0</td>\n",
       "      <td>0.0</td>\n",
       "      <td>16.0</td>\n",
       "      <td>8.0</td>\n",
       "    </tr>\n",
       "    <tr>\n",
       "      <th>Bird</th>\n",
       "      <td>16.0</td>\n",
       "      <td>12.0</td>\n",
       "      <td>320.0</td>\n",
       "      <td>0.0</td>\n",
       "    </tr>\n",
       "    <tr>\n",
       "      <th>Fish</th>\n",
       "      <td>12.0</td>\n",
       "      <td>0.0</td>\n",
       "      <td>16.0</td>\n",
       "      <td>20.0</td>\n",
       "    </tr>\n",
       "    <tr>\n",
       "      <th>Mammal</th>\n",
       "      <td>44.0</td>\n",
       "      <td>12.0</td>\n",
       "      <td>168.0</td>\n",
       "      <td>8.0</td>\n",
       "    </tr>\n",
       "    <tr>\n",
       "      <th>Nonvascular Plant</th>\n",
       "      <td>0.0</td>\n",
       "      <td>0.0</td>\n",
       "      <td>20.0</td>\n",
       "      <td>0.0</td>\n",
       "    </tr>\n",
       "    <tr>\n",
       "      <th>Reptile</th>\n",
       "      <td>0.0</td>\n",
       "      <td>0.0</td>\n",
       "      <td>20.0</td>\n",
       "      <td>0.0</td>\n",
       "    </tr>\n",
       "    <tr>\n",
       "      <th>Vascular Plant</th>\n",
       "      <td>4.0</td>\n",
       "      <td>0.0</td>\n",
       "      <td>172.0</td>\n",
       "      <td>8.0</td>\n",
       "    </tr>\n",
       "  </tbody>\n",
       "</table>\n",
       "</div>"
      ],
      "text/plain": [
       "conservation_status  Endangered  In Recovery  Species of Concern  Threatened\n",
       "category                                                                    \n",
       "Amphibian                   4.0          0.0                16.0         8.0\n",
       "Bird                       16.0         12.0               320.0         0.0\n",
       "Fish                       12.0          0.0                16.0        20.0\n",
       "Mammal                     44.0         12.0               168.0         8.0\n",
       "Nonvascular Plant           0.0          0.0                20.0         0.0\n",
       "Reptile                     0.0          0.0                20.0         0.0\n",
       "Vascular Plant              4.0          0.0               172.0         8.0"
      ]
     },
     "execution_count": 27,
     "metadata": {},
     "output_type": "execute_result"
    }
   ],
   "source": [
    "category_by_conservation = df_filtrado.groupby([\"category\", \"conservation_status\"]).size().unstack().fillna(0)\n",
    "category_by_conservation"
   ]
  },
  {
   "cell_type": "code",
   "execution_count": 28,
   "metadata": {},
   "outputs": [
    {
     "data": {
      "image/png": "[encoded data removed]",
      "text/plain": [
       "<Figure size 800x600 with 1 Axes>"
      ]
     },
     "metadata": {},
     "output_type": "display_data"
    }
   ],
   "source": [
    "# Vizualização dos dados\n",
    "ax2 = category_by_conservation.plot(kind = \"bar\", \n",
    "                                    stacked=False,\n",
    "                                    colormap=\"viridis\")\n",
    "\n",
    "ax2.set_title(\"Number of Species by Category and Conservation Status\")\n",
    "ax2.set_xlabel(\"Number of Species\")\n",
    "ax2.set_ylabel(\"Conservation Status\")\n",
    "plt.show()"
   ]
  },
  {
   "cell_type": "markdown",
   "metadata": {},
   "source": [
    "## Diferenças entre as espécies e o seu estado de conservação\n",
    "\n",
    "Ao analisar os dados, podemos observar os seguintes diferenças:\n",
    "\n",
    "- **Em Perigo (Endangered) – 43.91:** As espécies nessa categoria enfrentam um alto risco de extinção. A média indica que essas espécies estão em uma situação crítica, exigindo atenção urgente para sua sobrevivência.\n",
    "\n",
    "- **Em Recuperação (In Recovery) – 87.79:** As espécies em recuperação mostram uma média mais alta, indicando que os esforços de conservação estão tendo impacto positivo. No entanto, essas espécies ainda precisam de monitoramento contínuo para garantir sua recuperação completa.\n",
    "  \n",
    "- **Espécies de Interesse (Species of Concern) – 128.36:** Essa categoria tem a maior média, sugerindo que muitas espécies estão sob vigilância, mas ainda não atingiram um estado crítico. Essas espécies precisam de acompanhamento para evitar uma piora em seu status de conservação.\n",
    "  \n",
    "- **Ameaçadas (Threatened) – 75.89:** As espécies ameaçadas têm uma média intermediária, o que indica que estão em risco elevado de extinção, embora ainda não estejam na categoria \"Em Perigo\". A necessidade de ações preventivas é evidente para evitar que mais espécies se movam para a categoria de maior risco."
   ]
  },
  {
   "cell_type": "code",
   "execution_count": 31,
   "metadata": {},
   "outputs": [
    {
     "data": {
      "text/plain": [
       "conservation_status\n",
       "Endangered             43.912500\n",
       "In Recovery            87.791667\n",
       "Species of Concern    128.363388\n",
       "Threatened             75.886364\n",
       "Name: observations, dtype: float64"
      ]
     },
     "execution_count": 31,
     "metadata": {},
     "output_type": "execute_result"
    }
   ],
   "source": [
    "conservation_by_oberservations = df_filtrado.groupby(\"conservation_status\")[\"observations\"].mean()\n",
    "conservation_by_oberservations"
   ]
  },
  {
   "cell_type": "code",
   "execution_count": 32,
   "metadata": {},
   "outputs": [
    {
     "data": {
      "image/png": "[encoded data removed]",
      "text/plain": [
       "<Figure size 800x600 with 1 Axes>"
      ]
     },
     "metadata": {},
     "output_type": "display_data"
    }
   ],
   "source": [
    "# Vizualização dos dados\n",
    "ax3 = conservation_by_oberservations.plot(kind=\"bar\", \n",
    "                                          color=\"green\")\n",
    "                                          \n",
    "ax3.set_title(\"Average Observations by Conservation State\")\n",
    "ax3.set_xlabel(\"Conservation Status\")\n",
    "ax3.set_ylabel(\"Conservation Status\")\n",
    "plt.show()\n"
   ]
  },
  {
   "cell_type": "markdown",
   "metadata": {},
   "source": [
    "O teste de Kruskal, demonstra que as diferenças entre os estados de conservação das espécies são estatisticamente significativas. Isso significa que há uma variação substancial entre os grupos de espécies com diferentes status de conservação, e essas diferenças não são devidas ao acaso."
   ]
  },
  {
   "cell_type": "code",
   "execution_count": 33,
   "metadata": {},
   "outputs": [
    {
     "name": "stdout",
     "output_type": "stream",
     "text": [
      "Estatística do teste: 286.5417673117656\n",
      "Valor-p: 8.658137980943161e-61\n",
      "é significativa\n"
     ]
    }
   ],
   "source": [
    "# Teste de Kruskal-Wallis\n",
    "conservation_by_oberservations = [group[\"observations\"].values for name, group in df_merge.groupby(\"conservation_status\")]\n",
    "stat, p = kruskal(*conservation_by_oberservations)\n",
    "\n",
    "print(f\"\"\"Estatística do teste: {stat}\n",
    "Valor-p: {p}\"\"\")\n",
    "\n",
    "if p < 0.05:\n",
    "    print(\"é significativa\")\n",
    "else:\n",
    "    print(\"não é significativa\")\n"
   ]
  },
  {
   "cell_type": "markdown",
   "metadata": {},
   "source": [
    "#### Animais prevalentes e sua distribuição nos parques\n",
    "\n",
    "Ao analisar os dados, podemos observar os animais em sua distribuição nos parques:\n",
    "\n",
    "- O **Yellowstone National Park** tem o maior número de observações, com 44.583 registros, sugerindo uma grande biodiversidade ou esforços intensos de monitoramento.\n",
    "\n",
    "- O **Yosemite National Park** segue com 26.913 observações, enquanto o **Bryce National Park** (18.609) e o **Great Smoky Mountains National Park** (12.816) têm números menores, mas ainda significativos."
   ]
  },
  {
   "cell_type": "code",
   "execution_count": 34,
   "metadata": {},
   "outputs": [
    {
     "data": {
      "text/plain": [
       "park_name\n",
       "Yellowstone National Park              44583\n",
       "Yosemite National Park                 26913\n",
       "Bryce National Park                    18609\n",
       "Great Smoky Mountains National Park    12816\n",
       "Name: observations, dtype: int64"
      ]
     },
     "execution_count": 34,
     "metadata": {},
     "output_type": "execute_result"
    }
   ],
   "source": [
    "# Soma de observações em cada parque\n",
    "park_name_by_obervations = df_filtrado.groupby(\"park_name\")[\"observations\"].sum().sort_values(ascending=False)\n",
    "park_name_by_obervations"
   ]
  },
  {
   "cell_type": "code",
   "execution_count": 35,
   "metadata": {},
   "outputs": [
    {
     "data": {
      "image/png": "[encoded data removed]",
      "text/plain": [
       "<Figure size 800x600 with 1 Axes>"
      ]
     },
     "metadata": {},
     "output_type": "display_data"
    }
   ],
   "source": [
    "# Vizualização dos dados\n",
    "ax4 = sns.barplot(data=park_name_by_obervations, \n",
    "                  color=\"green\")\n",
    "ax4.set_title(\"Distribution of animals in parks\")\n",
    "ax4.set_xlabel(\"Park name\")\n",
    "ax4.set_ylabel(\"Oberservations\")\n",
    "ax4.set_xticks(range(len(df_filtrado[\"park_name\"].unique())))\n",
    "ax4.set_xticklabels(df_filtrado[\"park_name\"].unique(), rotation= 40, ha=\"right\")\n",
    "plt.show()"
   ]
  },
  {
   "cell_type": "markdown",
   "metadata": {},
   "source": [
    "A espécie mais observada é o Myotis lucifugus (morcego marrom), com 4.641 observações. O Myotis lucifugus pode ter uma ampla distribuição ou ser particularmente prevalente nas áreas monitoradas, destacando sua relevância ecológica nos parques analisados."
   ]
  },
  {
   "cell_type": "code",
   "execution_count": 36,
   "metadata": {},
   "outputs": [
    {
     "data": {
      "text/plain": [
       "scientific_name\n",
       "Myotis lucifugus    4641\n",
       "Name: observations, dtype: int64"
      ]
     },
     "execution_count": 36,
     "metadata": {},
     "output_type": "execute_result"
    }
   ],
   "source": [
    "# Espécie mais observada\n",
    "scientific_name_by_obervations = df_filtrado.groupby(\"scientific_name\")[\"observations\"].sum().sort_values(ascending=False).head(1)\n",
    "scientific_name_by_obervations"
   ]
  },
  {
   "cell_type": "markdown",
   "metadata": {},
   "source": [
    "### Conclusão\n",
    "\n",
    "**Respostas às Perguntas**\n",
    "\n",
    "- Qual é a distribuição do estado de conservação das espécies?\n",
    "  - Com base nos resultados fornecidos, a distribuicoes apresentadas sao:\n",
    "    | Conservation Status  | Oberservations |\n",
    "    |----------------------|-------|\n",
    "    |   No Intervention    | 24721 |\n",
    "    |   Species of Concern | 732   |\n",
    "    |   Endangered         | 80    |\n",
    "    |   Threatened         | 44    |\n",
    "    |   In Recovery        | 24    |\n",
    "\n",
    "- Certos tipos de espécies têm maior probabilidade de estarem ameaçados?\n",
    "  - Sim, as Aves e Mamíferos têm maior probabilidade de estarem ameaçados, com uma combinação significativa de espécies em perigo e ameaçadas.\n",
    "  \n",
    "- As diferenças entre as espécies e o seu estado de conservação são significativas?\n",
    "  - Sim, as espécies em recuperação e de interesse tendem a apresentar condições mais favoráveis em comparação com aquelas em perigo ou ameaçadas, e as diferenças entre esses grupos são significativas. \n",
    "  \n",
    "- Qual animal é mais prevalente e qual a sua distribuição nos parques? \n",
    "  - O animal mais prevalente é Myotis lucifugus com um valor igual a 4641 de distribuição nos parques\n",
    "\n",
    "**Conclusão Geral**\n",
    "\n",
    "A análise mostrou que a maioria das espécies está estável, mas aves e mamíferos têm maior risco de extinção, com várias espécies em perigo ou ameaçadas. Espécies em recuperação apresentam melhores perspectivas, mas ainda precisam de atenção. O Myotis lucifugus é o animal mais observado, e parques como Yellowstone e Yosemite registram o maior número de observações, refletindo alta biodiversidade ou esforços intensos de monitoramento. A conservação contínua é essencial para proteger espécies em risco."
   ]
  }
 ],
 "metadata": {
  "kernelspec": {
   "display_name": "Python 3",
   "language": "python",
   "name": "python3"
  },
  "language_info": {
   "codemirror_mode": {
    "name": "ipython",
    "version": 3
   },
   "file_extension": ".py",
   "mimetype": "text/x-python",
   "name": "python",
   "nbconvert_exporter": "python",
   "pygments_lexer": "ipython3",
   "version": "3.12.3"
  }
 },
 "nbformat": 4,
 "nbformat_minor": 4
}
